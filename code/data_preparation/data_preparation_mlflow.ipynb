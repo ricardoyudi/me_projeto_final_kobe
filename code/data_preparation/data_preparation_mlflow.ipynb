{
 "cells": [
  {
   "cell_type": "code",
   "execution_count": 3,
   "metadata": {},
   "outputs": [],
   "source": [
    "import pandas as pd\n",
    "from sklearn.model_selection import train_test_split\n",
    "import mlflow"
   ]
  },
  {
   "cell_type": "code",
   "execution_count": 10,
   "metadata": {},
   "outputs": [],
   "source": [
    "mlflow.set_tracking_uri(\"sqlite:///mlruns.db\")\n",
    "\n",
    "experiment_name = 'Projeto Kobe'\n",
    "experiment = mlflow.get_experiment_by_name(experiment_name)\n",
    "if experiment is None:\n",
    "    experiment_id = mlflow.create_experiment(experiment_name)\n",
    "    experiment = mlflow.get_experiment(experiment_id)\n",
    "experiment_id = experiment.experiment_id"
   ]
  },
  {
   "cell_type": "code",
   "execution_count": 13,
   "metadata": {},
   "outputs": [
    {
     "name": "stdout",
     "output_type": "stream",
     "text": [
      "Dimensão do dataset: (24271, 25)\n",
      "Dimensão do dataset filtrado: (20285, 7)\n"
     ]
    }
   ],
   "source": [
    "train_perc = 0.8\n",
    "\n",
    "with mlflow.start_run(experiment_id=experiment_id, run_name = 'PreparacaoDados'):\n",
    "    dev_data = pd.read_parquet('../../data/raw/dataset_kobe_dev.parquet')\n",
    "\n",
    "    dev_data.head()\n",
    "\n",
    "    print('Dimensão do dataset:', dev_data.shape)   \n",
    "        \n",
    "    columns = ['lat', 'lon', 'minutes_remaining', 'period', 'playoffs', 'shot_distance', 'shot_made_flag']\n",
    "    filtered_data = dev_data[columns].dropna()\n",
    "        \n",
    "    print('Dimensão do dataset filtrado:', filtered_data.shape)   \n",
    "\n",
    "    filtered_data.to_parquet('../../data/processed/data_filtered.parquet')\n",
    "\n",
    "    X = filtered_data.drop('shot_made_flag', axis=1)\n",
    "    y = filtered_data['shot_made_flag']\n",
    "\n",
    "    X_train, X_test, y_train, y_test = train_test_split(X, y, train_size=train_perc, stratify=y, random_state=42)\n",
    "\n",
    "    X_train.join(y_train).to_parquet(\"../../data/processed/base_train.parquet\")\n",
    "    X_test.join(y_test).to_parquet(\"../..//data/processed/base_test.parquet\")\n",
    "    \n",
    "    mlflow.log_params({\n",
    "        'perc-teste': 1-train_perc,\n",
    "        'colunas-selecionadas': columns\n",
    "        })\n",
    "    mlflow.log_metrics({\n",
    "        'qtd_linhas_treino': X_train.shape[0],\n",
    "        'qtd_linhas_teste': X_test.shape[0]\n",
    "        })\n",
    "\n",
    " "
   ]
  },
  {
   "cell_type": "code",
   "execution_count": null,
   "metadata": {},
   "outputs": [],
   "source": []
  }
 ],
 "metadata": {
  "kernelspec": {
   "display_name": "infnet-ml-em-projeto-final",
   "language": "python",
   "name": "python3"
  },
  "language_info": {
   "codemirror_mode": {
    "name": "ipython",
    "version": 3
   },
   "file_extension": ".py",
   "mimetype": "text/x-python",
   "name": "python",
   "nbconvert_exporter": "python",
   "pygments_lexer": "ipython3",
   "version": "3.11.8"
  }
 },
 "nbformat": 4,
 "nbformat_minor": 2
}
